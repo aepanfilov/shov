{
  "nbformat": 4,
  "nbformat_minor": 0,
  "metadata": {
    "colab": {
      "provenance": [],
      "authorship_tag": "ABX9TyP1aWcZXOnQ2BkRI8qYN/Ge",
      "include_colab_link": true
    },
    "kernelspec": {
      "name": "python3",
      "display_name": "Python 3"
    },
    "language_info": {
      "name": "python"
    }
  },
  "cells": [
    {
      "cell_type": "markdown",
      "metadata": {
        "id": "view-in-github",
        "colab_type": "text"
      },
      "source": [
        "<a href=\"https://colab.research.google.com/github/aepanfilov/shov/blob/main/Shov.ipynb\" target=\"_parent\"><img src=\"https://colab.research.google.com/assets/colab-badge.svg\" alt=\"Open In Colab\"/></a>"
      ]
    },
    {
      "cell_type": "code",
      "source": [
        "# загрузка отдельного архива с сайта\n",
        "!wget http://f1065011.xsph.ru/shov/original/noshov.zip\n",
        "!wget http://f1065011.xsph.ru/shov/original/bok.zip\n",
        "!wget http://f1065011.xsph.ru/shov/original/centr.zip\n",
        "!wget http://f1065011.xsph.ru/shov/original/shov.zip\n",
        "!wget http://f1065011.xsph.ru/shov/noshov2.zip"
      ],
      "metadata": {
        "colab": {
          "base_uri": "https://localhost:8080/"
        },
        "id": "Ne0RvN-gHcYr",
        "outputId": "a4c004f9-c516-4069-8c09-e0a43204740f"
      },
      "execution_count": 2,
      "outputs": [
        {
          "output_type": "stream",
          "name": "stdout",
          "text": [
            "--2025-04-01 20:51:45--  http://f1065011.xsph.ru/noshov.zip\n",
            "Resolving f1065011.xsph.ru (f1065011.xsph.ru)... 141.8.192.151\n",
            "Connecting to f1065011.xsph.ru (f1065011.xsph.ru)|141.8.192.151|:80... connected.\n",
            "HTTP request sent, awaiting response... 200 OK\n",
            "Length: 59257935 (57M) [application/zip]\n",
            "Saving to: ‘noshov.zip’\n",
            "\n",
            "noshov.zip          100%[===================>]  56.51M  5.00MB/s    in 9.8s    \n",
            "\n",
            "2025-04-01 20:51:55 (5.75 MB/s) - ‘noshov.zip’ saved [59257935/59257935]\n",
            "\n"
          ]
        }
      ]
    },
    {
      "cell_type": "code",
      "source": [],
      "metadata": {
        "id": "ZDt6l9xeH0Ly"
      },
      "execution_count": null,
      "outputs": []
    },
    {
      "cell_type": "code",
      "execution_count": null,
      "metadata": {
        "id": "08CMRTKBBp3r"
      },
      "outputs": [],
      "source": [
        "from google.colab import drive # Модуль для работы с Google Disk\n",
        "drive.mount('/content/drive')\n",
        "# использовать '\\' для экранировани/я 'пробела' в пути\n",
        "fname=\"/content/drive/MyDrive/ColabNotebooks/shov.zip\""
      ]
    },
    {
      "cell_type": "code",
      "source": [
        "!ls drive/Shareddrives/"
      ],
      "metadata": {
        "id": "-nKsZRUwFHI1"
      },
      "execution_count": 3,
      "outputs": []
    }
  ]
}